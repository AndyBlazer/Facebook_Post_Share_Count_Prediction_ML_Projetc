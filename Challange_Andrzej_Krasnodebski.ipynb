{
 "cells": [
  {
   "cell_type": "markdown",
   "metadata": {},
   "source": [
    "# <div style=\"text-align:center\"><i><p style=\"color:black\"> Personal Challange - Andrzej Krasnodebski </p></i></div>"
   ]
  },
  {
   "cell_type": "markdown",
   "metadata": {},
   "source": [
    "#### <center> 4146123 <br> </center>\n",
    "\n",
    " <center> 4th Semester ICT & Business Student <br>\n",
    " <center> Artificial Intelligence Specialization<br>\n",
    " <center> Fontys University of Applied Sciences<br> \n",
    " <br>\n",
    "<hr style=\"height:1px; border-width:0; color:gray; background-color:gray\">"
   ]
  },
  {
   "cell_type": "markdown",
   "metadata": {},
   "source": [
    "#### <div style=\"text-align:center\"> <p style=\"color:black\"> Version History </p> </div>\n",
    "<center> <table>\n",
    "  <tr>\n",
    "    <th>Version</th>\n",
    "    <th>Date</th>\n",
    "    <th>Changes</th>\n",
    "  </tr>\n",
    "  <tr>\n",
    "    <td>0.1</td>\n",
    "    <td>28/02/2022</td>\n",
    "    <td> - Initial layout </td>\n",
    "  </tr>\n",
    "  <tr>\n",
    "    <td>0.2</td>\n",
    "    <td>01/03/2022</td>\n",
    "    <td>- Preface<br> - Introduction<br> - Domain Understanding</td>\n",
    "  </tr>\n",
    "    <tr>\n",
    "    <td>0.3</td>\n",
    "    <td>02/03/2022</td>\n",
    "    <td>- Phase 1</td>\n",
    "  </tr>\n",
    "    <tr>\n",
    "    <td>0.4</td>\n",
    "    <td>03/03/2022</td>\n",
    "    <td>- Phase 2</td>\n",
    "  </tr>\n",
    "    <tr>\n",
    "    <td>0.5</td>\n",
    "    <td></td>\n",
    "    <td></td>\n",
    "  </tr>\n",
    "</table>\n",
    "</center>"
   ]
  },
  {
   "cell_type": "markdown",
   "metadata": {},
   "source": [
    "<hr style=\"height:1px; border-width:0; color:gray; background-color:gray\">\n",
    "\n",
    "### <p style=\"color:black\">Table of contents <br></p>\n",
    "\n",
    "[Preface](#Preface)<br>\n",
    "[Introduction](#Introduction)<br>\n",
    "1. [<b> Proposal (Phase 1) </b>](#Proposal)<br>\n",
    "    1.1 [Domain Understanding](#DomainUnderstanding)<br>\n",
    "    1.2 [Data Sourcing](#DataSourcing)<br>\n",
    "    1.3 [Analytic Approach](#AnalyticApproach)<br>\n",
    "2. [<b> Provisioning (Phase 2) </b>](#Provisioning)<br>\n",
    "    2.1 [Data Requirements](#DataRequirements)<br>\n",
    "    2.2 [Data Collection](#DataCollection)<br>\n",
    "    2.3 [Data Understanding](#DataUnderstanding)<br>\n",
    "    2.4 [Data Preparation](#DataPreparation)<br>\n",
    "3. [<b> Predictions (Phase 3) </b>](#Predictions)<br>\n",
    "    3.1 [Preprocessing](#Preprocessing)<br>\n",
    "    3.2 [Modelling](#Modelling)<br>\n",
    "    3.3 [Evaluation](#Evaluation)<br>\n",
    "4. [<b> Delivery (Phase 4) </b>](#Delivery)<br>\n",
    "    4.1 [Collecting, Documenting, Reporting](#Collecting)<br>\n",
    "5. [<b> Conclusion </b>](#Conclusion)<br>\n",
    "6. [<b> Appendix </b>](#Appendix)<br>\n",
    "7. [<b> References </b>](#References)<br>"
   ]
  },
  {
   "cell_type": "markdown",
   "metadata": {},
   "source": [
    "<hr style=\"height:1px; border-width:0; color:gray; background-color:gray\">\n",
    "<br>\n",
    "\n",
    "## <p style=\"color:black\"> Preface <a name=\"Preface\"></a></p>"
   ]
  },
  {
   "cell_type": "markdown",
   "metadata": {},
   "source": [
    "My name is Andrzej Krasnodebski and I am a 4th semester Student at Fontys University of Applied Sciences in Eindhoven, Netherlands. <br>\n",
    "I follow ICT & Business profile and currenly am enrolled in Artificial Intelligence specialization. <br>\n",
    "<br>\n",
    "This markdown file/document presents my personal challange I need to perform to prove my learning outcomes. It will be updated accordingly as I progres with the course. <br>\n",
    "The goal is to make a whole Machine Learning project following the <a href=\"https://developer.ibm.com/blogs/following-the-data-science-methodology/\">IBM Data Science Methodology</a> consisting of 4 main phases:<br>\n",
    "1. Proposal (Phase 1) <br>\n",
    "2. Provisioning (Phase 2)<br>\n",
    "3. Predictions (Phase 3)<br>\n",
    "4. Delivery (Phase 4)<br>\n",
    "<br>\n",
    "\n",
    "Disclaimer: <br>\n",
    "This file is a whole walkthrough of my work process with code, visuals, descriptions, analyses and sometimes personal thoughts or comments (and please treat them accordingly).\n",
    "I will do my best to create the best model for given scenario, however I will not promise anything except experiments. The idea is to showcase here everything that came up to my mind during the work process and unless something is a total educationally misleading disaster, I am going to leave it in this report for reference."
   ]
  },
  {
   "cell_type": "markdown",
   "metadata": {},
   "source": [
    "<hr style=\"height:1px; border-width:0; color:gray; background-color:gray\">\n",
    "<br>\n",
    "\n",
    "## <p style=\"color:black\">Introduction <a name=\"Introduction\"></a>"
   ]
  },
  {
   "cell_type": "markdown",
   "metadata": {},
   "source": [
    "To stay connected to the every day world, people use many different social media platforms. From all of those, Facebook is one of the biggest and oldest one. <br>\n",
    "It is an American multinational technology conglomerate based in Menlo Park, California. The company is the parent organization of Facebook, Instagram, and WhatsApp, among other subsidiaries. Meta is one of the world's most valuable companies. It is one of the Big Five American information technology companies, alongside Alphabet, Amazon, Apple, and Microsoft.\n",
    "Founded in 2004 by Mark Zuckerberg, currently unites over 2.9 bilion users.<br>\n",
    "\n",
    "Project goal:<br>\n",
    "<b>Predict the number of Facebook post shares based on the page popularity and the weekday of publishig.</b>"
   ]
  },
  {
   "cell_type": "markdown",
   "metadata": {},
   "source": [
    "<hr style=\"height:1px; border-width:0; color:gray; background-color:gray\">\n",
    "<br>\n",
    "\n",
    "## <p style=\"color:black\">1. Proposal (Phase 1) <a name=\"Proposal\"></a>\n"
   ]
  },
  {
   "cell_type": "markdown",
   "metadata": {},
   "source": [
    "The first phase of the project starts with focus on researching choosen domain and better understanding of the topic. <br>\n",
    "Afterwards, moving into Data Sourcing and searching for data enrichement. <br>\n",
    "Finishing with defining a clear goal for the modelling and choosing the best approach to the project."
   ]
  },
  {
   "cell_type": "markdown",
   "metadata": {},
   "source": [
    "The domain I will be researching is Facebook posts and pages, how it works and what are the behavioural factors. <br>\n",
    "<br>\n",
    "This domain is part of two biger ones: <br>\n",
    "Social Media -> Facebook -> Posts and Pages <br>\n",
    "<br> \n",
    "To structure my research, I come up with research questions I will be trying to answear with my findings."
   ]
  },
  {
   "cell_type": "markdown",
   "metadata": {},
   "source": [
    "#### <p style=\"color:black\">Main Research Question:<br>\n",
    "<b> How to predict the posts' shares volume based on mother page like count and weekday of posting? </b>"
   ]
  },
  {
   "cell_type": "markdown",
   "metadata": {},
   "source": [
    "#### <p style=\"color:black\">Sub Questions:<br>\n",
    "1. How does Facebook position posts on the main page? <br>\n",
    "2. Does the weekday and time influence posts' reach?<br>\n",
    "3. What days are the best to post in order to achieve the most post shares?<br>\n",
    "4. What factors influence post shares volume the most?<br>\n",
    "5. Can a Machine Learning algorythm predict the posts' shares volume based on selected features?><br>"
   ]
  },
  {
   "cell_type": "markdown",
   "metadata": {},
   "source": [
    "### <p style=\"color:black\">1.1 Domain Understanding <a name=\"DomainUnderstanding\"></a>"
   ]
  },
  {
   "cell_type": "markdown",
   "metadata": {},
   "source": [
    "I started the Domain Understanding with a quick research of factors thah influence posts' popularity - number of shares. The exact Facebook algorythms that are responsible for post positioning on the main page are classified and can only be surmised.<br>\n",
    "<br>\n",
    "You can find the results of my findings on the graphic below.<br>\n",
    "<br>\n",
    "Note, that it is just a beginning of my Domain Understanding research and this part will be much more extensive.<br>\n",
    "Every publicly available source I use is referenced [<b> here </b>](#References)."
   ]
  },
  {
   "cell_type": "markdown",
   "metadata": {},
   "source": [
    "<center><img src=\"Domain.png\" alt=\"alt text\" width=\"600\" style=\"padding:50px\"/>"
   ]
  },
  {
   "cell_type": "markdown",
   "metadata": {},
   "source": [
    "### <p style=\"color:black\">1.2 Data Sourcing <a name=\"DataSourcing\"></a>"
   ]
  },
  {
   "cell_type": "markdown",
   "metadata": {},
   "source": [
    "To sucesfully pursue this project I need a solid data base with a quality data. For the purposes of the ML model I need at least 3 features:<br>\n",
    "\n",
    "- Number of posts' share count - the Target Variable<br>\n",
    "- Number of mother page like count<br>\n",
    "- Weekday of post sharing<br>\n",
    "\n",
    "Of course, that will not be enough for the domain understanding and deep EDA (Exploratory Data Analysis). I am going to look for much more features to enrich my data:<br>\n",
    "\n",
    "- Number of words in the post <br>\n",
    "- Mother page category <br>\n",
    "- Number of posts' comments<br>\n",
    "- If the post was promoted<br>\n",
    "- etc.<br>\n",
    "\n",
    "In search for suitable for this project data I am going to:<br>\n",
    "1. Search for existing data<br>\n",
    "2. Search for data APIs<br>\n",
    "3. Search for web data to scrape<br>\n",
    "<br>\n",
    "\n",
    "<b> Data Sources I managed to find so far: </b><br>\n",
    "* <a href=\"https://archive.ics.uci.edu/ml/datasets/Facebook+Comment+Volume+Dataset\">Facebook Comment Volume Dataset</a> - looks very promising, ,many features to support modelling and EDA<br>\n",
    "* <a href=\"https://archive.ics.uci.edu/ml/datasets/Online+News+Popularity\">Online News Popularity Data Set</a> - not related to Facebook, but to the Social Media domain<br>\n",
    "* <a href=\"https://data.world/d1gi/missing-fb-posts-w-share-stats\">Removed Facebook Pages: Engagement Metrics and Posts</a> - relation with post shares<br>\n",
    "* <a href=\"https://www.kaggle.com/sheenabatra/facebook-data\">Facebook Data</a> - not related to shares, info about users<br>\n",
    "* <a href=\"https://data.humdata.org/organization/facebook\">Facebook various data sets</a> - for the domain understanding<br>\n",
    "\n"
   ]
  },
  {
   "cell_type": "markdown",
   "metadata": {},
   "source": [
    "### <p style=\"color:black\">1.3 Analytic Approach <a name=\"AnalyticApproach\"></a>"
   ]
  },
  {
   "cell_type": "markdown",
   "metadata": {},
   "source": [
    "- <b>Tagret Variable</b><br>\n",
    "The target variable is that one particular feature that you want to predict based on the other features.<br>\n",
    "My target variable for the model to predict will be <i>the number of post's shares.</i><br>\n",
    "<br>\n",
    "- <b>Algorythm selection</b><br>\n",
    "Not every algorithm suits every problem. Some are better at this, and some are better at that.<br>\n",
    "For the first draft of the project I will be using <i>kNN (k Nearest Neighbours)</i> algorythm as it supports both classification and regression modelling.<br>\n",
    "<br>\n",
    "- <b>Good Indicators - Features correlations</b><br>\n",
    "High correlation between target variable and other features is essential to asses if a ML model will have enough accuracy.<br>\n",
    "Looking for good indicators is part of [<b>Exploratory Data Analysis</b>](#DataUnderstanding)."
   ]
  },
  {
   "cell_type": "markdown",
   "metadata": {},
   "source": [
    "<hr style=\"height:1px; border-width:0; color:gray; background-color:gray\">\n",
    "<br>\n",
    "\n",
    "## <p style=\"color:black\">2. Provisioning (Phase 2) <a name=\"Provisioning\"></a>"
   ]
  },
  {
   "cell_type": "markdown",
   "metadata": {},
   "source": [
    "The second phase of the project is focused on data.<br>\n",
    "Starting with more theoretical aspects, moving into data understanding and preparation for modelliing."
   ]
  },
  {
   "cell_type": "markdown",
   "metadata": {},
   "source": [
    "### <p style=\"color:black\">2.1 Data Requirements <a name=\"DataRequirements\"></a>"
   ]
  },
  {
   "cell_type": "markdown",
   "metadata": {},
   "source": [
    "- <b>Domain</b><br>\n",
    "After Phase 1, already know from what domains I need the data from.<br>\n",
    "1. Facebook domain - for domain understanding<br>\n",
    "2. Posts and Pages sub-domain - for modelling\n",
    "<br>\n",
    "<br>\n",
    "Domain 2 is relational to domain 1 as it is a sub-domain. Facebook domain is especially needed to full understand the main one for modelling and EDA.\n",
    "<br>\n",
    "\n",
    "- <b>Stakeholders</b><br>\n",
    "Storing this kind of data is beneficial for many stakeholders in and outside those domains.<br>\n",
    "Facebook is one of the largest marketing playgrounds and gathers many companies interested in advertising there. Also, page administrators and owners want to have<br> \n",
    "insights into their products performance. On top of that, Facebook company aims to deliver its' customers the highest vale and best experience in using this paltform. <br>\n",
    "To do so, they need to constantly improve their services and again, to do so, they need to measure it first.<br>\n",
    "<br>\n",
    "\n",
    "- <b>Required Data Elements</b><br>\n",
    "    - Facts & Dimentions<br>\n",
    "        Facts are the easiest to identify and are stored in data objects as measurable data. Therefore facts are also called measures.<br>\n",
    "        A dimension is a characterisation of a Fact. In other words it is a description of an item that specifically references a Fact. <br>\n",
    "\n",
    "        -------------- THIS WILL BE DESCRIBED AT LATER STAGE OF THIS PROJECT --------------<br>\n",
    "<br>\n",
    "    - Data Dictionary<br>\n",
    "        As defined in the <a href=\"https://www.ibm.com/ibm/history/documents/pdf/glossary.pdf\">IBM Dictionary of Computing</a>, a data dictionary is a \"centralised repository of information about data such as meaning, relationships to other data, origin, usage, and format\". It is a collection of tables with information about the structures that contain the data. If you are able to understand data dictionaries you are able to understand the data strategy on which an organisation is based.<br>\n",
    "        \n",
    "        -------------- THIS WILL BE DESCRIBED AT LATER STAGE OF THIS PROJECT --------------<br>\n",
    "<br>\n",
    "\n",
    "- <b>Candidate Data Sources</b><br>\n",
    "Candidate data sources should be identified based on the facts.<br>\n",
    "The candidate data sources containing the identified data elements, should be reviewd on collection of data facts. If these facts make sense with regards to the information they contain, I may continue by focusing on the dimensions.<br>\n",
    "\n",
    "    I have already listed several candidate data sources [here](#DataSourcing).\n"
   ]
  },
  {
   "cell_type": "markdown",
   "metadata": {},
   "source": [
    "### <p style=\"color:black\">2.2 Data Collection <a name=\"DataCollection\"></a>"
   ]
  },
  {
   "cell_type": "markdown",
   "metadata": {},
   "source": [
    "- <b>Information</b><br>\n",
    "The information I want to collect is already described in the [Data Sourcing](#DataSourcing) section. <br>\n",
    "I will not be looking at any specific time frame as my target variable is not time sensitve in terms of years or seasons.<br>\n",
    "<br>\n",
    "\n",
    "- <b>Storage</b><br>\n",
    "At this (initial) stage of the project I will be storing the data on my hard drive which will allow me to acces it easily and fast.<br>\n",
    "Perhaps, when the project advances I will be forced to use cloud storage for efficiency.<br>\n",
    "<br>\n",
    "\n",
    "- <b>Version and Naming system</b><br>\n",
    "The version naming system will come up during data exporting loading into the environment.<br>\n",
    "<br>\n",
    "\n",
    "- <b>Data Reloading</b><br>\n",
    "As I will be using a publicly available dataset, only one copy is going to be downloaded and untill update, it will not be reloaded.<br>\n",
    "However, if I am to use any API or Web Scrapping method - data will be updated weekly.<br>\n",
    "<br>\n",
    "\n",
    "- <b>Extraction procedures</b><br>\n",
    "The datases is downloadable in CSV format from the <a href=\"https://archive.ics.uci.edu/ml/index.phpf\">UCI Machine Learning Repository.</a>"
   ]
  },
  {
   "cell_type": "markdown",
   "metadata": {},
   "source": [
    "### <p style=\"color:black\">2.3 Data Understanding <a name=\"DataUnderstanding\"></a>"
   ]
  },
  {
   "cell_type": "markdown",
   "metadata": {},
   "source": []
  },
  {
   "cell_type": "markdown",
   "metadata": {},
   "source": [
    "### <p style=\"color:black\">2.4 Data Preparation <a name=\"DataPreparation\"></a>"
   ]
  },
  {
   "cell_type": "markdown",
   "metadata": {},
   "source": []
  },
  {
   "cell_type": "markdown",
   "metadata": {},
   "source": [
    "<hr style=\"height:1px; border-width:0; color:gray; background-color:gray\">\n",
    "<br>\n",
    "\n",
    "## <p style=\"color:black\">3. Predictions (Phase 3) <a name=\"Predictions\"></a>"
   ]
  },
  {
   "cell_type": "markdown",
   "metadata": {},
   "source": []
  },
  {
   "cell_type": "markdown",
   "metadata": {},
   "source": [
    "### <p style=\"color:black\">3.1 Preprocessing <a name=\"Preprocessing\"></a>"
   ]
  },
  {
   "cell_type": "markdown",
   "metadata": {},
   "source": []
  },
  {
   "cell_type": "markdown",
   "metadata": {},
   "source": [
    "### <p style=\"color:black\">3.2 Modelling <a name=\"Modelling\"></a>"
   ]
  },
  {
   "cell_type": "markdown",
   "metadata": {},
   "source": []
  },
  {
   "cell_type": "markdown",
   "metadata": {},
   "source": [
    "### <p style=\"color:black\">3.3 Evaluation <a name=\"Evaluation\"></a>"
   ]
  },
  {
   "cell_type": "markdown",
   "metadata": {},
   "source": []
  },
  {
   "cell_type": "markdown",
   "metadata": {},
   "source": [
    "<hr style=\"height:1px; border-width:0; color:gray; background-color:gray\">\n",
    "<br>\n",
    "\n",
    "## <p style=\"color:black\">4. Delivery (Phase 4) <a name=\"Delivery\"></a>"
   ]
  },
  {
   "cell_type": "markdown",
   "metadata": {},
   "source": []
  },
  {
   "cell_type": "markdown",
   "metadata": {},
   "source": [
    "### <p style=\"color:black\">4.1 Collecting, Documenting, Reporting <a name=\"Collecting\"></a>"
   ]
  },
  {
   "cell_type": "markdown",
   "metadata": {},
   "source": []
  },
  {
   "cell_type": "markdown",
   "metadata": {},
   "source": [
    "<hr style=\"height:1px; border-width:0; color:gray; background-color:gray\">\n",
    "<br>\n",
    "\n",
    "## <p style=\"color:black\">5. Conclusion <a name=\"Conclusion\"></a>"
   ]
  },
  {
   "cell_type": "markdown",
   "metadata": {},
   "source": []
  },
  {
   "cell_type": "markdown",
   "metadata": {},
   "source": [
    "<hr style=\"height:1px; border-width:0; color:gray; background-color:gray\">\n",
    "<br>\n",
    "\n",
    "## <p style=\"color:black\">6. Appendix <a name=\"Appendix\"></a>"
   ]
  },
  {
   "cell_type": "markdown",
   "metadata": {},
   "source": []
  },
  {
   "cell_type": "markdown",
   "metadata": {},
   "source": [
    "<hr style=\"height:1px; border-width:0; color:gray; background-color:gray\">\n",
    "<br>\n",
    "\n",
    "## <p style=\"color:black\">7. References <a name=\"References\"></a>"
   ]
  },
  {
   "cell_type": "markdown",
   "metadata": {},
   "source": []
  },
  {
   "cell_type": "code",
   "execution_count": 2,
   "metadata": {},
   "outputs": [],
   "source": [
    "# Importing necessary libraries\n",
    "\n",
    "import numpy as np \n",
    "# Numerical Python, is a library consisting of multidimensional array objects \n",
    "# and a collection of routines for processing those arrays. \n",
    "# Using NumPy, mathematical and logical operations on arrays can be performed.\n",
    "\n",
    "import pandas as pd\n",
    "# library for data manipulation and analysis. In particular, it offers \n",
    "# data structures and operations for manipulating numerical tables and time series.\n",
    "\n",
    "import matplotlib.pyplot as plt\n",
    "# plotting library for Python and its numerical mathematics extension NumPy. \n",
    "# It provides an object-oriented API for embedding plots into applications \n",
    "# using general-purpose GUI toolkits like Tkinter, wxPython, Qt, or GTK.\n",
    "\n",
    "import seaborn as sns \n",
    "# data visualization library based on matplotlib. It provides a high-level interface \n",
    "# for drawing attractive and informative statistical graphics.\n",
    "# sns - Samuel Norman Seaborn, fictional character serial drama The West Wing\n",
    "\n",
    "%matplotlib inline\n",
    "# sets the backend of matplotlib to the 'inline' backend: With this backend, \n",
    "# the output of plotting commands is displayed inline within frontends like \n",
    "# the Jupyter notebook, directly below the code cell that produced it. \n",
    "# The resulting plots will then also be stored in the notebook document."
   ]
  },
  {
   "cell_type": "code",
   "execution_count": 2,
   "metadata": {},
   "outputs": [
    {
     "data": {
      "text/plain": [
       "'/Users/andrew/Desktop/Personal Challange'"
      ]
     },
     "execution_count": 2,
     "metadata": {},
     "output_type": "execute_result"
    }
   ],
   "source": [
    "pwd"
   ]
  },
  {
   "cell_type": "code",
   "execution_count": 25,
   "metadata": {},
   "outputs": [
    {
     "data": {
      "text/html": [
       "<div>\n",
       "<style scoped>\n",
       "    .dataframe tbody tr th:only-of-type {\n",
       "        vertical-align: middle;\n",
       "    }\n",
       "\n",
       "    .dataframe tbody tr th {\n",
       "        vertical-align: top;\n",
       "    }\n",
       "\n",
       "    .dataframe thead th {\n",
       "        text-align: right;\n",
       "    }\n",
       "</style>\n",
       "<table border=\"1\" class=\"dataframe\">\n",
       "  <thead>\n",
       "    <tr style=\"text-align: right;\">\n",
       "      <th></th>\n",
       "      <th>634995</th>\n",
       "    </tr>\n",
       "  </thead>\n",
       "  <tbody>\n",
       "    <tr>\n",
       "      <th>0</th>\n",
       "      <td>634995</td>\n",
       "    </tr>\n",
       "    <tr>\n",
       "      <th>1</th>\n",
       "      <td>634995</td>\n",
       "    </tr>\n",
       "    <tr>\n",
       "      <th>2</th>\n",
       "      <td>634995</td>\n",
       "    </tr>\n",
       "    <tr>\n",
       "      <th>3</th>\n",
       "      <td>634995</td>\n",
       "    </tr>\n",
       "    <tr>\n",
       "      <th>4</th>\n",
       "      <td>634995</td>\n",
       "    </tr>\n",
       "    <tr>\n",
       "      <th>...</th>\n",
       "      <td>...</td>\n",
       "    </tr>\n",
       "    <tr>\n",
       "      <th>40943</th>\n",
       "      <td>7170111</td>\n",
       "    </tr>\n",
       "    <tr>\n",
       "      <th>40944</th>\n",
       "      <td>7170111</td>\n",
       "    </tr>\n",
       "    <tr>\n",
       "      <th>40945</th>\n",
       "      <td>7170111</td>\n",
       "    </tr>\n",
       "    <tr>\n",
       "      <th>40946</th>\n",
       "      <td>7170111</td>\n",
       "    </tr>\n",
       "    <tr>\n",
       "      <th>40947</th>\n",
       "      <td>7170111</td>\n",
       "    </tr>\n",
       "  </tbody>\n",
       "</table>\n",
       "<p>40948 rows × 1 columns</p>\n",
       "</div>"
      ],
      "text/plain": [
       "        634995\n",
       "0       634995\n",
       "1       634995\n",
       "2       634995\n",
       "3       634995\n",
       "4       634995\n",
       "...        ...\n",
       "40943  7170111\n",
       "40944  7170111\n",
       "40945  7170111\n",
       "40946  7170111\n",
       "40947  7170111\n",
       "\n",
       "[40948 rows x 1 columns]"
      ]
     },
     "execution_count": 25,
     "metadata": {},
     "output_type": "execute_result"
    }
   ],
   "source": [
    "facebook_df = pd.read_csv(\"/Users/andrew/Desktop/Personal Challange/Dataset/Training/Features_Variant_1.csv\",sep=',',decimal = \",\")\n",
    "facebook_df = pd.DataFrame(facebook_df)\n",
    "facebook_df[facebook_df.columns[0:4 | 29:40]]"
   ]
  }
 ],
 "metadata": {
  "interpreter": {
   "hash": "6ba916f278725abf7eff3b0ceb1f08835ef39f267b76416c5b8fd316147ba4a5"
  },
  "kernelspec": {
   "display_name": "Python 3.9.7 ('base')",
   "language": "python",
   "name": "python3"
  },
  "language_info": {
   "codemirror_mode": {
    "name": "ipython",
    "version": 3
   },
   "file_extension": ".py",
   "mimetype": "text/x-python",
   "name": "python",
   "nbconvert_exporter": "python",
   "pygments_lexer": "ipython3",
   "version": "3.9.7"
  },
  "orig_nbformat": 4
 },
 "nbformat": 4,
 "nbformat_minor": 2
}
